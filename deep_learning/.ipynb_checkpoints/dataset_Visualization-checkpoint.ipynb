{
 "cells": [
  {
   "cell_type": "code",
   "execution_count": 1,
   "metadata": {},
   "outputs": [
    {
     "name": "stdout",
     "output_type": "stream",
     "text": [
      "(784000,)\n",
      "(1000, 784)\n",
      "(1000, 1, 28, 28)\n"
     ]
    },
    {
     "data": {
      "text/plain": [
       "numpy.ndarray"
      ]
     },
     "execution_count": 1,
     "metadata": {},
     "output_type": "execute_result"
    },
    {
     "data": {
      "image/png": "[encoded data removed]",
      "text/plain": [
       "<Figure size 432x288 with 1 Axes>"
      ]
     },
     "metadata": {
      "needs_background": "light"
     },
     "output_type": "display_data"
    }
   ],
   "source": [
    "import cv2\n",
    "import glob \n",
    "import matplotlib.pyplot as plt\n",
    "import sys, os\n",
    "sys.path.append(os.pardir)  # 親ディレクトリのファイルをインポートするための設定\n",
    "import pickle\n",
    "import numpy as np\n",
    "from collections import OrderedDict\n",
    "from common.layers import *\n",
    "from common.gradient import numerical_gradient\n",
    "\n",
    "image_dir = './train_img'\n",
    "search_pattern = '*'\n",
    "\n",
    "datas = []\n",
    "for image_path in sorted(glob.glob(os.path.join(image_dir,search_pattern))):\n",
    "    data = cv2.imread(image_path, cv2.IMREAD_GRAYSCALE)\n",
    "    data_expanded = np.expand_dims(data,axis=0)\n",
    "    datas.append(data_expanded)\n",
    "    \n",
    "    \n",
    "img = np.concatenate(datas,axis=0)\n",
    "img.shape\n",
    "\n",
    "for i in range(801):\n",
    "    plt.imshow(img[i], cmap = 'gray')\n",
    "    \n",
    "img.shape\n",
    "\n",
    "img = img.reshape(1000, 784)\n",
    "img.shape\n",
    "\n",
    "train_img = []\n",
    "for n in range(0,1000):\n",
    "    for i in range(0, 784):\n",
    "        img[n,i] = img[n,i].astype(np.float32)\n",
    "        train_img.append((255.0 - img[n,i]) / 255.0)\n",
    "\n",
    "train_img = np.array(train_img)\n",
    "print(train_img.shape)\n",
    "\n",
    "train_img = train_img.reshape(1000, 784)\n",
    "print(train_img.shape)\n",
    "\n",
    "train_img = train_img.reshape(1000, 1, 28, 28)\n",
    "print(train_img.shape)\n",
    "type(train_img)"
   ]
  },
  {
   "cell_type": "code",
   "execution_count": 2,
   "metadata": {},
   "outputs": [
    {
     "name": "stdout",
     "output_type": "stream",
     "text": [
      "(1500, 784)\n",
      "(1500, 28, 28)\n",
      "(1000, 28, 28) (500, 28, 28)\n",
      "(1000, 1, 28, 28) (500, 1, 28, 28)\n",
      "<class 'numpy.ndarray'>\n"
     ]
    },
    {
     "data": {
      "image/png": "[encoded data removed]",
      "text/plain": [
       "<Figure size 432x288 with 1 Axes>"
      ]
     },
     "metadata": {
      "needs_background": "light"
     },
     "output_type": "display_data"
    }
   ],
   "source": [
    "def load_img():\n",
    "    image_dir = ['./train_img', './test_img']\n",
    "    search_pattern = '*'\n",
    "\n",
    "    datas = []\n",
    "\n",
    "    for i in range(len(image_dir)):\n",
    "        for image_path in sorted(glob.glob(os.path.join(image_dir[i],search_pattern))):\n",
    "            data = cv2.imread(image_path, cv2.IMREAD_GRAYSCALE)\n",
    "            data_expanded = np.expand_dims(data,axis=0)\n",
    "            datas.append(data_expanded)\n",
    "        \n",
    "    image = np.concatenate(datas,axis=0)\n",
    "    image = image.reshape(1500, 784)\n",
    "    print(image.shape)\n",
    "\n",
    "    img = []\n",
    "    for n in range(0,1500):\n",
    "        for i in range(0, 784):\n",
    "            image[n,i] = image[n,i].astype(np.float32)\n",
    "            img.append((255.0 - image[n,i]) / 255.0)\n",
    "        \n",
    "    img = np.array(img)\n",
    "    img = img.reshape(1500, 28, 28)\n",
    "    print(img.shape)\n",
    "\n",
    "    train_img = img[:1000]\n",
    "    test_img = img[1000:]\n",
    "    print(train_img.shape, test_img.shape)\n",
    "\n",
    "    for i in range(300):\n",
    "        plt.imshow(test_img[i], cmap = 'gray')\n",
    "    \n",
    "    x_train = train_img.reshape(1000, 1, 28, 28)\n",
    "    x_test = test_img.reshape(500, 1, 28, 28)\n",
    "    print(x_train.shape, x_test.shape)\n",
    "    print(type(x_train))"
   ]
  },
  {
   "cell_type": "code",
   "execution_count": 3,
   "metadata": {},
   "outputs": [
    {
     "name": "stdout",
     "output_type": "stream",
     "text": [
      "[[1. 0. 0. ... 0. 0. 0.]\n",
      " [1. 0. 0. ... 0. 0. 0.]\n",
      " [1. 0. 0. ... 0. 0. 0.]\n",
      " ...\n",
      " [0. 0. 0. ... 0. 0. 1.]\n",
      " [0. 0. 0. ... 0. 0. 1.]\n",
      " [0. 0. 0. ... 0. 0. 1.]]\n",
      "(1000, 10)\n",
      "[[1. 0. 0. ... 0. 0. 0.]\n",
      " [1. 0. 0. ... 0. 0. 0.]\n",
      " [1. 0. 0. ... 0. 0. 0.]\n",
      " ...\n",
      " [0. 0. 0. ... 0. 0. 1.]\n",
      " [0. 0. 0. ... 0. 0. 1.]\n",
      " [0. 0. 0. ... 0. 0. 1.]]\n",
      "(500, 10)\n"
     ]
    }
   ],
   "source": [
    "tr0 = [0]*100\n",
    "tr1 = [1]*100\n",
    "tr2 = [2]*100\n",
    "tr3 = [3]*100\n",
    "tr4 = [4]*100\n",
    "tr5 = [5]*100\n",
    "tr6 = [6]*100\n",
    "tr7 = [7]*100\n",
    "tr8 = [8]*100\n",
    "tr9 = [9]*100\n",
    "t_tr= tr0 + tr1 + tr2 + tr3 + tr4 + tr5 + tr6 + tr7 + tr8 + tr9\n",
    "t_train = np.identity(10)[t_tr]\n",
    "\n",
    "print(t_train)\n",
    "print(t_train.shape)\n",
    "\n",
    "te0 = [0]*50\n",
    "te1 = [1]*50\n",
    "te2 = [2]*50\n",
    "te3 = [3]*50\n",
    "te4 = [4]*50\n",
    "te5 = [5]*50\n",
    "te6 = [6]*50\n",
    "te7 = [7]*50\n",
    "te8 = [8]*50\n",
    "te9 = [9]*50\n",
    "t_te = te0 + te1 + te2 + te3 + te4 + te5 + te6 + te7 + te8 + te9\n",
    "t_test = np.identity(10)[t_te]\n",
    "print(t_test)\n",
    "print(t_test.shape)"
   ]
  },
  {
   "cell_type": "code",
   "execution_count": null,
   "metadata": {},
   "outputs": [],
   "source": []
  }
 ],
 "metadata": {
  "kernelspec": {
   "display_name": "Python 3",
   "language": "python",
   "name": "python3"
  },
  "language_info": {
   "codemirror_mode": {
    "name": "ipython",
    "version": 3
   },
   "file_extension": ".py",
   "mimetype": "text/x-python",
   "name": "python",
   "nbconvert_exporter": "python",
   "pygments_lexer": "ipython3",
   "version": "3.8.5"
  }
 },
 "nbformat": 4,
 "nbformat_minor": 4
}
